{
 "cells": [
  {
   "cell_type": "code",
   "execution_count": 167,
   "id": "8bd5defd-fc4d-47de-8188-4ceb55a8da8e",
   "metadata": {},
   "outputs": [],
   "source": [
    "import pandas as pd\n",
    "import numpy as np\n",
    "df = pd.read_json(\"quotes.jsonl\", lines=True)"
   ]
  },
  {
   "cell_type": "code",
   "execution_count": 168,
   "id": "9416d791-3e0c-4504-9610-63152f21d299",
   "metadata": {},
   "outputs": [
    {
     "data": {
      "text/html": [
       "<div>\n",
       "<style scoped>\n",
       "    .dataframe tbody tr th:only-of-type {\n",
       "        vertical-align: middle;\n",
       "    }\n",
       "\n",
       "    .dataframe tbody tr th {\n",
       "        vertical-align: top;\n",
       "    }\n",
       "\n",
       "    .dataframe thead th {\n",
       "        text-align: right;\n",
       "    }\n",
       "</style>\n",
       "<table border=\"1\" class=\"dataframe\">\n",
       "  <thead>\n",
       "    <tr style=\"text-align: right;\">\n",
       "      <th></th>\n",
       "      <th>quote</th>\n",
       "      <th>author</th>\n",
       "      <th>tags</th>\n",
       "    </tr>\n",
       "  </thead>\n",
       "  <tbody>\n",
       "    <tr>\n",
       "      <th>0</th>\n",
       "      <td>“Be yourself; everyone else is already taken.”</td>\n",
       "      <td>Oscar Wilde</td>\n",
       "      <td>[be-yourself, gilbert-perreira, honesty, inspi...</td>\n",
       "    </tr>\n",
       "    <tr>\n",
       "      <th>1</th>\n",
       "      <td>“I'm selfish, impatient and a little insecure....</td>\n",
       "      <td>Marilyn Monroe</td>\n",
       "      <td>[best, life, love, mistakes, out-of-control, t...</td>\n",
       "    </tr>\n",
       "    <tr>\n",
       "      <th>2</th>\n",
       "      <td>“Two things are infinite: the universe and hum...</td>\n",
       "      <td>Albert Einstein</td>\n",
       "      <td>[human-nature, humor, infinity, philosophy, sc...</td>\n",
       "    </tr>\n",
       "    <tr>\n",
       "      <th>3</th>\n",
       "      <td>“So many books, so little time.”</td>\n",
       "      <td>Frank Zappa</td>\n",
       "      <td>[books, humor]</td>\n",
       "    </tr>\n",
       "    <tr>\n",
       "      <th>4</th>\n",
       "      <td>“A room without books is like a body without a...</td>\n",
       "      <td>Marcus Tullius Cicero</td>\n",
       "      <td>[books, simile, soul]</td>\n",
       "    </tr>\n",
       "  </tbody>\n",
       "</table>\n",
       "</div>"
      ],
      "text/plain": [
       "                                               quote                 author  \\\n",
       "0     “Be yourself; everyone else is already taken.”            Oscar Wilde   \n",
       "1  “I'm selfish, impatient and a little insecure....         Marilyn Monroe   \n",
       "2  “Two things are infinite: the universe and hum...        Albert Einstein   \n",
       "3                   “So many books, so little time.”            Frank Zappa   \n",
       "4  “A room without books is like a body without a...  Marcus Tullius Cicero   \n",
       "\n",
       "                                                tags  \n",
       "0  [be-yourself, gilbert-perreira, honesty, inspi...  \n",
       "1  [best, life, love, mistakes, out-of-control, t...  \n",
       "2  [human-nature, humor, infinity, philosophy, sc...  \n",
       "3                                     [books, humor]  \n",
       "4                              [books, simile, soul]  "
      ]
     },
     "execution_count": 168,
     "metadata": {},
     "output_type": "execute_result"
    }
   ],
   "source": [
    "df.head()"
   ]
  },
  {
   "cell_type": "code",
   "execution_count": 169,
   "id": "f4ea38fb-85d2-4c96-a771-bfa8d5f99589",
   "metadata": {},
   "outputs": [
    {
     "data": {
      "text/plain": [
       "(2508, 3)"
      ]
     },
     "execution_count": 169,
     "metadata": {},
     "output_type": "execute_result"
    }
   ],
   "source": [
    "df.shape"
   ]
  },
  {
   "cell_type": "code",
   "execution_count": 170,
   "id": "6836d1d4-3edc-4df1-9f90-289002b002a3",
   "metadata": {},
   "outputs": [
    {
     "data": {
      "text/plain": [
       "quote     0\n",
       "author    0\n",
       "tags      0\n",
       "dtype: int64"
      ]
     },
     "execution_count": 170,
     "metadata": {},
     "output_type": "execute_result"
    }
   ],
   "source": [
    "df.isnull().sum()"
   ]
  },
  {
   "cell_type": "code",
   "execution_count": 171,
   "id": "5e642b6c-53de-4191-842a-5d83decddcf4",
   "metadata": {},
   "outputs": [],
   "source": [
    "df[\"quote\"] = df[\"quote\"].str.lower()"
   ]
  },
  {
   "cell_type": "code",
   "execution_count": 172,
   "id": "16b3a0a8-8d69-4e27-9ed3-7685db495cce",
   "metadata": {},
   "outputs": [],
   "source": [
    "df[\"author\"] = df[\"author\"].str.lower()"
   ]
  },
  {
   "cell_type": "code",
   "execution_count": 173,
   "id": "7a6744bb-c7b5-4640-a16d-3d3d84d35fb3",
   "metadata": {},
   "outputs": [],
   "source": [
    "df[\"tags\"] = df[\"tags\"].apply(lambda x: [tag.lower() for tag in x])"
   ]
  },
  {
   "cell_type": "code",
   "execution_count": 174,
   "id": "31399a0a-7729-4784-ab69-8eb2799472f7",
   "metadata": {},
   "outputs": [
    {
     "data": {
      "text/html": [
       "<div>\n",
       "<style scoped>\n",
       "    .dataframe tbody tr th:only-of-type {\n",
       "        vertical-align: middle;\n",
       "    }\n",
       "\n",
       "    .dataframe tbody tr th {\n",
       "        vertical-align: top;\n",
       "    }\n",
       "\n",
       "    .dataframe thead th {\n",
       "        text-align: right;\n",
       "    }\n",
       "</style>\n",
       "<table border=\"1\" class=\"dataframe\">\n",
       "  <thead>\n",
       "    <tr style=\"text-align: right;\">\n",
       "      <th></th>\n",
       "      <th>quote</th>\n",
       "      <th>author</th>\n",
       "      <th>tags</th>\n",
       "    </tr>\n",
       "  </thead>\n",
       "  <tbody>\n",
       "    <tr>\n",
       "      <th>1752</th>\n",
       "      <td>“those who know do not speak. those who speak ...</td>\n",
       "      <td>lao tsu,</td>\n",
       "      <td>[philosophy, wayfinding]</td>\n",
       "    </tr>\n",
       "  </tbody>\n",
       "</table>\n",
       "</div>"
      ],
      "text/plain": [
       "                                                  quote    author  \\\n",
       "1752  “those who know do not speak. those who speak ...  lao tsu,   \n",
       "\n",
       "                          tags  \n",
       "1752  [philosophy, wayfinding]  "
      ]
     },
     "execution_count": 174,
     "metadata": {},
     "output_type": "execute_result"
    }
   ],
   "source": [
    "df.sample()"
   ]
  },
  {
   "cell_type": "code",
   "execution_count": 175,
   "id": "9cca0630-bd32-4c61-9e72-ea4779d9c3b2",
   "metadata": {},
   "outputs": [],
   "source": [
    "df.to_csv(\"cleaned_quotes.csv\", index=False)"
   ]
  },
  {
   "cell_type": "code",
   "execution_count": 176,
   "id": "8f6ea9a4-ea12-4bbe-9649-e1db0d48f3ee",
   "metadata": {},
   "outputs": [],
   "source": [
    "# pip install sentence-transformers"
   ]
  },
  {
   "cell_type": "code",
   "execution_count": 177,
   "id": "18f9668e-e3dc-4570-b68c-e10d53a27953",
   "metadata": {},
   "outputs": [],
   "source": [
    "df = pd.read_csv(\"cleaned_quotes.csv\")"
   ]
  },
  {
   "cell_type": "code",
   "execution_count": 178,
   "id": "8a462abb-facb-491a-b065-0ad34561f7ff",
   "metadata": {},
   "outputs": [],
   "source": [
    "def merge_fields(row):\n",
    "    return f\"{row['quote']} - {row['author']} | tags: {', '.join(eval(row['tags']))}\""
   ]
  },
  {
   "cell_type": "code",
   "execution_count": 179,
   "id": "3bc8a5da-fef3-46b0-9a15-0f5991e5f54e",
   "metadata": {},
   "outputs": [],
   "source": [
    "df['full_text'] = df.apply(merge_fields, axis=1)"
   ]
  },
  {
   "cell_type": "code",
   "execution_count": 180,
   "id": "3637b16f-4db6-49a8-9244-476513c766fc",
   "metadata": {},
   "outputs": [
    {
     "data": {
      "text/plain": [
       "975    “you pierce my soul. i am half agony, half hop...\n",
       "Name: full_text, dtype: object"
      ]
     },
     "execution_count": 180,
     "metadata": {},
     "output_type": "execute_result"
    }
   ],
   "source": [
    "df['full_text'].sample()"
   ]
  },
  {
   "cell_type": "code",
   "execution_count": 181,
   "id": "5843957b-881a-4621-9caa-69d84833b62f",
   "metadata": {},
   "outputs": [],
   "source": [
    "from sentence_transformers import SentenceTransformer"
   ]
  },
  {
   "cell_type": "code",
   "execution_count": 182,
   "id": "606c8c03-b5ba-4cae-acc1-b01781be80d8",
   "metadata": {},
   "outputs": [],
   "source": [
    "model = SentenceTransformer('all-MiniLM-L6-v2')"
   ]
  },
  {
   "cell_type": "code",
   "execution_count": 183,
   "id": "a80f7e1c-21f4-4ee6-b531-1e15dd3c2109",
   "metadata": {},
   "outputs": [
    {
     "name": "stderr",
     "output_type": "stream",
     "text": [
      "Batches: 100%|█████████████████████████████████████████████████████████████████████████| 79/79 [00:28<00:00,  2.75it/s]\n"
     ]
    }
   ],
   "source": [
    "corpus = df['full_text'].tolist()\n",
    "embeddings = model.encode(corpus, show_progress_bar=True)"
   ]
  },
  {
   "cell_type": "code",
   "execution_count": 185,
   "id": "83496f0a-db6c-43f3-b4c4-cab444dcc66a",
   "metadata": {},
   "outputs": [],
   "source": [
    "np.save(\"quote_embeddings.npy\", embeddings)\n",
    "df.to_csv(\"quote_metadata.csv\", index=False)\n",
    "model.save(\"quote_embedding_model\")"
   ]
  },
  {
   "cell_type": "code",
   "execution_count": null,
   "id": "487cb811-dc69-43f3-9f7e-f97272890914",
   "metadata": {},
   "outputs": [],
   "source": []
  },
  {
   "cell_type": "code",
   "execution_count": 186,
   "id": "2e5b6970-9d79-4a4b-8da4-9a3cd134a256",
   "metadata": {},
   "outputs": [],
   "source": [
    "# pip install faiss-cpu"
   ]
  },
  {
   "cell_type": "code",
   "execution_count": 187,
   "id": "db0a30ce-e54b-46ff-a452-86435839490a",
   "metadata": {},
   "outputs": [],
   "source": [
    "embeddings = np.load(\"quote_embeddings.npy\")\n",
    "df = pd.read_csv(\"quote_metadata.csv\")\n",
    "model = SentenceTransformer(\"quote_embedding_model\")"
   ]
  },
  {
   "cell_type": "code",
   "execution_count": 188,
   "id": "b6aeaf3c-f649-480d-b67f-9e869ada387f",
   "metadata": {},
   "outputs": [],
   "source": [
    "import faiss\n",
    "\n",
    "embedding_dim = embeddings.shape[1]\n",
    "index = faiss.IndexFlatL2(embedding_dim)\n",
    "index.add(embeddings)"
   ]
  },
  {
   "cell_type": "code",
   "execution_count": 204,
   "id": "761cd1e4-bfce-4b09-ac0c-2cb0feffd7ac",
   "metadata": {},
   "outputs": [],
   "source": [
    "def retrieve_quotes(query, k=5):\n",
    "    query_embedding = model.encode([query])\n",
    "    distances, indices = index.search(query_embedding, k)\n",
    "\n",
    "    results = df.iloc[indices[0]].copy()\n",
    "\n",
    "    # Optional: Normalize similarity (if you use it somewhere else)\n",
    "    if np.max(distances[0]) != 0:\n",
    "        results['similarity_score'] = 1 - distances[0] / np.max(distances[0])\n",
    "    else:\n",
    "        results['similarity_score'] = 1.0\n",
    "\n",
    "    # Ensure 'tags' are Python lists, not strings\n",
    "    if isinstance(results.iloc[0][\"tags\"], str):\n",
    "        results[\"tags\"] = results[\"tags\"].apply(eval)\n",
    "\n",
    "    return results\n"
   ]
  },
  {
   "cell_type": "code",
   "execution_count": 205,
   "id": "337e0a49-e34a-437c-a2a2-500c6321462a",
   "metadata": {},
   "outputs": [],
   "source": [
    "# pip install openai"
   ]
  },
  {
   "cell_type": "code",
   "execution_count": 206,
   "id": "d6ae501f-9662-415a-9db2-88036c2823fc",
   "metadata": {},
   "outputs": [],
   "source": [
    "# pip install replicate"
   ]
  },
  {
   "cell_type": "code",
   "execution_count": 207,
   "id": "c240ad20-359f-4374-aae3-b1615652b683",
   "metadata": {},
   "outputs": [],
   "source": [
    "import replicate\n",
    "\n",
    "import os\n",
    "os.environ[\"REPLICATE_API_TOKEN\"] = \"r8_QnpZp5ohlk3ts9s4SvBJAJMkEnr81ic3psh0N\"\n",
    "\n",
    "client = replicate.Client()\n",
    "\n",
    "def generate_response_replicate(query, retrieved_df):\n",
    "    context = \"\\n\".join(\n",
    "        f\"Quote: {row['quote']}\\nAuthor: {row['author']}\\nTags: {row['tags']}\"\n",
    "        for _, row in retrieved_df.iterrows()\n",
    "    )\n",
    "\n",
    "    prompt = f\"\"\"\n",
    "You are a strict JSON-generating assistant.\n",
    "\n",
    "User Query: \"{query}\"\n",
    "\n",
    "You are given the following context containing quotes. Return only the quotes that best match the query.\n",
    "\n",
    "Respond ONLY with a valid JSON array using the following format:\n",
    "[\n",
    "  {{\n",
    "    \"quote\": \"string\",\n",
    "    \"author\": \"string\",\n",
    "    \"tags\": [\"string\", ...]\n",
    "  }},\n",
    "  ...\n",
    "]\n",
    "\n",
    "Do NOT include any explanation or commentary. Return only a JSON array.\n",
    "\n",
    "Context:\n",
    "{context}\n",
    "\"\"\"\n",
    "\n",
    "    output = replicate.run(\n",
    "        \"stability-ai/stablelm-tuned-alpha-7b:943c4afb4d0273cf1cf17c1070e182c903a9fe6b372df36b5447cf45935c42f2\",\n",
    "        # \"replicate/flan-t5-xl:eec2f71c986dfa3b7a5d842d22e1130550f015720966bec48beaae059b19ef4c\",\n",
    "        input={\n",
    "            \"prompt\": prompt,\n",
    "            \"max_tokens\": 500,\n",
    "            \"temperature\": 0.7,\n",
    "            \"top_p\": 0.9\n",
    "        }\n",
    "    )\n",
    "\n",
    "    return \"\".join(output)\n",
    "    \n",
    "\n"
   ]
  },
  {
   "cell_type": "code",
   "execution_count": 208,
   "id": "aa1c9e6f-0451-4da4-9642-2e9d5ca20ca0",
   "metadata": {},
   "outputs": [],
   "source": [
    "def rag_pipeline(query, k=5):\n",
    "    retrieved_df = retrieve_quotes(query, k)\n",
    "    llm_response = generate_response_replicate(query, retrieved_df)\n",
    "    return llm_response, retrieved_df"
   ]
  },
  {
   "cell_type": "code",
   "execution_count": 209,
   "id": "0cfc608d-247d-49cf-99d0-72114cbcdb25",
   "metadata": {},
   "outputs": [
    {
     "name": "stdout",
     "output_type": "stream",
     "text": [
      "LLM Response:\n",
      "Here's an example output from generating a list of motivational quotes based on the input provided: [{\"quote\":\"To succeed without success is meaningless; it signifies nothing.\",\"author\":\"Albert Einstein\",\"tags\":[\"inspirational\"]}, {\"quote\":\"Belief gives directionality toward purpose - when we believe our path has meaning beyond ourselves alone—we’re making progress towards some greater goal.\",\"author\":\"Buddhism\",\"tags\":[\"inspirational\"]}, {\"quote\":\"Be content\n"
     ]
    }
   ],
   "source": [
    "query = \"Motivational quotes tagged 'accomplishment'\"\n",
    "response_json, source_quotes = rag_pipeline(query) \n",
    "\n",
    "print(\"LLM Response:\")\n",
    "print(response_json)"
   ]
  },
  {
   "cell_type": "code",
   "execution_count": 210,
   "id": "01a69603-8745-4452-be5c-2a4874622258",
   "metadata": {},
   "outputs": [
    {
     "name": "stdout",
     "output_type": "stream",
     "text": [
      "                                                  quote               author  \\\n",
      "990   “success is not how high you have climbed, but...      roy t. bennett,   \n",
      "2421  “the starting point of all achievement is desi...       napoleon hill,   \n",
      "1118  “be grateful for what you already have while y...      roy t. bennett,   \n",
      "749   “believe in yourself. you are braver than you ...      roy t. bennett,   \n",
      "23    “to be yourself in a world that is constantly ...  ralph waldo emerson   \n",
      "\n",
      "                                                   tags  \\\n",
      "990   [inspiration, inspirational, inspirational-att...   \n",
      "2421                                    [inspirational]   \n",
      "1118  [goal, goals, gratitude, happiness, inspiratio...   \n",
      "749   [achievement, believe-in-yourself, brave, cour...   \n",
      "23    [accomplishment, be-yourself, conformity, indi...   \n",
      "\n",
      "                                              full_text  similarity_score  \n",
      "990   “success is not how high you have climbed, but...          0.103744  \n",
      "2421  “the starting point of all achievement is desi...          0.094801  \n",
      "1118  “be grateful for what you already have while y...          0.083231  \n",
      "749   “believe in yourself. you are braver than you ...          0.031349  \n",
      "23    “to be yourself in a world that is constantly ...          0.000000  \n"
     ]
    }
   ],
   "source": [
    "print(source_quotes)"
   ]
  },
  {
   "cell_type": "code",
   "execution_count": 211,
   "id": "07087f3e-7452-4a46-b64b-35f9defb6d17",
   "metadata": {},
   "outputs": [],
   "source": [
    "faiss.write_index(index, \"faiss_index.index\")"
   ]
  },
  {
   "cell_type": "code",
   "execution_count": null,
   "id": "96ff0d44-5f60-4df7-b6d4-d35596f644a8",
   "metadata": {},
   "outputs": [],
   "source": []
  }
 ],
 "metadata": {
  "kernelspec": {
   "display_name": "Python 3 (ipykernel)",
   "language": "python",
   "name": "python3"
  },
  "language_info": {
   "codemirror_mode": {
    "name": "ipython",
    "version": 3
   },
   "file_extension": ".py",
   "mimetype": "text/x-python",
   "name": "python",
   "nbconvert_exporter": "python",
   "pygments_lexer": "ipython3",
   "version": "3.11.2"
  }
 },
 "nbformat": 4,
 "nbformat_minor": 5
}
